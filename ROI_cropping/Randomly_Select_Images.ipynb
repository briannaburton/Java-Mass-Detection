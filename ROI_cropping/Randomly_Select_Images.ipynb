{
 "cells": [
  {
   "cell_type": "code",
   "execution_count": 3,
   "metadata": {
    "collapsed": true
   },
   "outputs": [],
   "source": [
    "import cv2\n",
    "import matplotlib.pyplot as plt\n",
    "from immas import MammogramImage , preprocessing , segmentation\n",
    "from immas.io import read_dataset\n",
    "from immas.basic_functions import show_image_plt\n",
    "from immas import preprocessing\n",
    "import os\n",
    "import numpy as np\n",
    "import random"
   ]
  },
  {
   "cell_type": "code",
   "execution_count": 8,
   "metadata": {},
   "outputs": [
    {
     "name": "stdout",
     "output_type": "stream",
     "text": [
      "10096\n"
     ]
    }
   ],
   "source": [
    "#Set path to images to randomly select from\n",
    "my_path = '/Users/briannaburton/Documents/Masters/S2-Cassino/Distributed-Programming-and-Networking/Java_Mass_Detection/ROI_cropping/images10,000/pos/'\n",
    "tif_files = [f for f in os.listdir(my_path) if f.endswith('.tif')]\n",
    "print(len(tif_files))\n",
    "#Number of images to randomly select\n",
    "desired_im_num = 1000\n",
    "random_nums = random.sample(range(0, len(tif_files)), desired_im_num)"
   ]
  },
  {
   "cell_type": "code",
   "execution_count": 12,
   "metadata": {},
   "outputs": [],
   "source": [
    "destination_path = \"/Users/briannaburton/Documents/Masters/S2-Cassino/Distributed-Programming-and-Networking/Java_Mass_Detection/ROI_cropping/images1000/pos/\"\n",
    "for i in range (0,len(random_nums)):\n",
    "    image = cv2.imread(os.path.join(my_path,tif_files[random_nums[i]]),0)\n",
    "    cv2.imwrite(os.path.join(destination_path, tif_files[random_nums[i]]), image)"
   ]
  },
  {
   "cell_type": "code",
   "execution_count": 10,
   "metadata": {},
   "outputs": [],
   "source": [
    "image = cv2.imread(os.path.join(my_path,tif_files[random_nums[4]]),0)"
   ]
  },
  {
   "cell_type": "code",
   "execution_count": null,
   "metadata": {
    "collapsed": true
   },
   "outputs": [],
   "source": []
  }
 ],
 "metadata": {
  "kernelspec": {
   "display_name": "Python 3 (IMMAS)",
   "language": "python",
   "name": "immas"
  },
  "language_info": {
   "codemirror_mode": {
    "name": "ipython",
    "version": 3
   },
   "file_extension": ".py",
   "mimetype": "text/x-python",
   "name": "python",
   "nbconvert_exporter": "python",
   "pygments_lexer": "ipython3",
   "version": "3.6.5"
  }
 },
 "nbformat": 4,
 "nbformat_minor": 2
}
