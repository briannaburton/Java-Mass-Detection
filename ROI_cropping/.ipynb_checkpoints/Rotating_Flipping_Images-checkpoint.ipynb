{
 "cells": [
  {
   "cell_type": "code",
   "execution_count": 7,
   "metadata": {
    "collapsed": true
   },
   "outputs": [],
   "source": [
    "import cv2\n",
    "import matplotlib.pyplot as plt\n",
    "from immas import MammogramImage , preprocessing , segmentation\n",
    "from immas.io import read_dataset\n",
    "from immas.basic_functions import show_image_plt\n",
    "from immas import preprocessing\n",
    "import os\n",
    "import numpy as np\n",
    "import argparse\n",
    "import imutils"
   ]
  },
  {
   "cell_type": "code",
   "execution_count": 8,
   "metadata": {},
   "outputs": [
    {
     "name": "stdout",
     "output_type": "stream",
     "text": [
      "1262\n"
     ]
    }
   ],
   "source": [
    "#Set path to images to rotate\n",
    "my_path = '/Users/briannaburton/Documents/Masters/S2-Cassino/Distributed-Programming-and-Networking/Java_Mass_Detection/ROI_cropping/images10,000/pos/'\n",
    "tif_files = [f for f in os.listdir(my_path) if f.endswith('.tif')]\n",
    "print(len(tif_files))"
   ]
  },
  {
   "cell_type": "code",
   "execution_count": 9,
   "metadata": {
    "collapsed": true
   },
   "outputs": [],
   "source": [
    "# Loop over the images to rotate\n",
    "for i in range (0,len(tif_files)):\n",
    "    \n",
    "    # load the image from disk\n",
    "    image = cv2.imread(os.path.join(my_path,tif_files[i]),0)\n",
    "    # loop over the rotation angles again, this time ensuring\n",
    "    # no part of the image is cut off\n",
    "    for angle in np.arange(90, 360, 90):\n",
    "        rotated = imutils.rotate_bound(image, angle)\n",
    "        cv2.imwrite(os.path.join(\"/Users/briannaburton/Documents/Masters/S2-Cassino/Distributed-Programming-and-Networking/Java_Mass_Detection/ROI_cropping/images10,000/pos/\", str(angle) + \"_\" + tif_files[i]), rotated)"
   ]
  },
  {
   "cell_type": "code",
   "execution_count": 12,
   "metadata": {},
   "outputs": [
    {
     "data": {
      "text/plain": [
       "10096"
      ]
     },
     "execution_count": 12,
     "metadata": {},
     "output_type": "execute_result"
    }
   ],
   "source": [
    "#Set path to images to flip\n",
    "my_path = '/Users/briannaburton/Documents/Masters/S2-Cassino/Distributed-Programming-and-Networking/Java_Mass_Detection/ROI_cropping/images10,000/pos/'\n",
    "tif_files = [f for f in os.listdir(my_path) if f.endswith('.tif')]\n",
    "len(tif_files)"
   ]
  },
  {
   "cell_type": "code",
   "execution_count": 11,
   "metadata": {
    "collapsed": true
   },
   "outputs": [],
   "source": [
    "# Loop over the images to flip\n",
    "for i in range (0,len(tif_files)):\n",
    "    # load the image from disk\n",
    "    image = cv2.imread(os.path.join(my_path,tif_files[i]),0)\n",
    "\n",
    "    # Flip image horizontally and save\n",
    "    flipped = cv2.flip(image, 0)\n",
    "    cv2.imwrite(os.path.join(\"/Users/briannaburton/Documents/Masters/S2-Cassino/Distributed-Programming-and-Networking/Java_Mass_Detection/ROI_cropping/images10,000/pos/\", \"flipped_\" + tif_files[i]), flipped)"
   ]
  },
  {
   "cell_type": "code",
   "execution_count": null,
   "metadata": {
    "collapsed": true
   },
   "outputs": [],
   "source": []
  }
 ],
 "metadata": {
  "kernelspec": {
   "display_name": "Python 3 (IMMAS)",
   "language": "python",
   "name": "immas"
  },
  "language_info": {
   "codemirror_mode": {
    "name": "ipython",
    "version": 3
   },
   "file_extension": ".py",
   "mimetype": "text/x-python",
   "name": "python",
   "nbconvert_exporter": "python",
   "pygments_lexer": "ipython3",
   "version": "3.6.5"
  }
 },
 "nbformat": 4,
 "nbformat_minor": 2
}
